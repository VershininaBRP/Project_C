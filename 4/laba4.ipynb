{
 "cells": [
  {
   "cell_type": "markdown",
   "id": "988156b5-4c7a-4843-b7fe-52874e6ed28c",
   "metadata": {},
   "source": [
    "# Лабораторная 4"
   ]
  },
  {
   "cell_type": "code",
   "execution_count": 1,
   "id": "2f0abdb8-1c64-4c7a-9f3a-a82500b7037e",
   "metadata": {},
   "outputs": [],
   "source": [
    "import pandas as pd\n",
    "data = pd.read_csv('./women-clothing-accessories.3-class.balanced.csv', sep='\\t')"
   ]
  },
  {
   "cell_type": "code",
   "execution_count": 2,
   "id": "72226878-8f22-461b-9d20-24843afc961c",
   "metadata": {},
   "outputs": [
    {
     "data": {
      "text/html": [
       "<div>\n",
       "<style scoped>\n",
       "    .dataframe tbody tr th:only-of-type {\n",
       "        vertical-align: middle;\n",
       "    }\n",
       "\n",
       "    .dataframe tbody tr th {\n",
       "        vertical-align: top;\n",
       "    }\n",
       "\n",
       "    .dataframe thead th {\n",
       "        text-align: right;\n",
       "    }\n",
       "</style>\n",
       "<table border=\"1\" class=\"dataframe\">\n",
       "  <thead>\n",
       "    <tr style=\"text-align: right;\">\n",
       "      <th></th>\n",
       "      <th>review</th>\n",
       "      <th>sentiment</th>\n",
       "    </tr>\n",
       "  </thead>\n",
       "  <tbody>\n",
       "    <tr>\n",
       "      <th>0</th>\n",
       "      <td>качество плохое пошив ужасный (горловина напер...</td>\n",
       "      <td>negative</td>\n",
       "    </tr>\n",
       "    <tr>\n",
       "      <th>1</th>\n",
       "      <td>Товар отдали другому человеку, я не получила п...</td>\n",
       "      <td>negative</td>\n",
       "    </tr>\n",
       "    <tr>\n",
       "      <th>2</th>\n",
       "      <td>Ужасная синтетика! Тонкая, ничего общего с пре...</td>\n",
       "      <td>negative</td>\n",
       "    </tr>\n",
       "    <tr>\n",
       "      <th>3</th>\n",
       "      <td>товар не пришел, продавец продлил защиту без м...</td>\n",
       "      <td>negative</td>\n",
       "    </tr>\n",
       "    <tr>\n",
       "      <th>4</th>\n",
       "      <td>Кофточка голая синтетика, носить не возможно.</td>\n",
       "      <td>negative</td>\n",
       "    </tr>\n",
       "  </tbody>\n",
       "</table>\n",
       "</div>"
      ],
      "text/plain": [
       "                                              review sentiment\n",
       "0  качество плохое пошив ужасный (горловина напер...  negative\n",
       "1  Товар отдали другому человеку, я не получила п...  negative\n",
       "2  Ужасная синтетика! Тонкая, ничего общего с пре...  negative\n",
       "3  товар не пришел, продавец продлил защиту без м...  negative\n",
       "4      Кофточка голая синтетика, носить не возможно.  negative"
      ]
     },
     "execution_count": 2,
     "metadata": {},
     "output_type": "execute_result"
    }
   ],
   "source": [
    "data.head()"
   ]
  },
  {
   "cell_type": "code",
   "execution_count": 3,
   "id": "0ca1ca7a-6c45-4a5d-9088-37a5c8479b22",
   "metadata": {},
   "outputs": [
    {
     "data": {
      "text/plain": [
       "negative    30000\n",
       "neautral    30000\n",
       "positive    30000\n",
       "Name: sentiment, dtype: int64"
      ]
     },
     "execution_count": 3,
     "metadata": {},
     "output_type": "execute_result"
    }
   ],
   "source": [
    "data['sentiment'].value_counts()"
   ]
  },
  {
   "cell_type": "code",
   "execution_count": 4,
   "id": "98d1d2e7-cb2a-48f3-be51-3c5e32d94724",
   "metadata": {},
   "outputs": [],
   "source": [
    "from sklearn.model_selection import train_test_split\n",
    "from sklearn.feature_extraction.text import TfidfVectorizer\n",
    "from sklearn.linear_model import LogisticRegression\n",
    "from sklearn.metrics import classification_report, accuracy_score, confusion_matrix"
   ]
  },
  {
   "cell_type": "code",
   "execution_count": 5,
   "id": "c7b2447e-b996-46b7-b652-8bf65ee39cd1",
   "metadata": {},
   "outputs": [],
   "source": [
    "import re\n",
    "import pymorphy2\n",
    "lem = pymorphy2.MorphAnalyzer()\n",
    "def cls(series: pd.Series) -> pd.Series:\n",
    "    return series.apply(cl)\n",
    "def cl(text: str) -> str:\n",
    "    return clear(lemm(text))\n",
    "def clear(text: str) -> str:\n",
    "    return re.sub(r'[^\\w\\s]', ' ', text)\n",
    "def lemm(text: str) -> str:\n",
    "    return ' '.join(lem.parse(word)[0].normal_form for word in text.lower().split())"
   ]
  },
  {
   "cell_type": "code",
   "execution_count": 6,
   "id": "2273bfe2-8cdd-4325-a62b-6626dc0bb26d",
   "metadata": {},
   "outputs": [],
   "source": [
    "data['review']=cls(data['review'])"
   ]
  },
  {
   "cell_type": "markdown",
   "id": "3cecdd71-c716-4917-95e1-cb73aa847755",
   "metadata": {},
   "source": [
    "Разделение данных на обучающую и тестовую выборки"
   ]
  },
  {
   "cell_type": "code",
   "execution_count": 7,
   "id": "486ea7f0-2793-47d0-8b20-0d5045cbd20e",
   "metadata": {},
   "outputs": [],
   "source": [
    "X = data['review']\n",
    "Y = data['sentiment']\n",
    "X_train, X_test, Y_train, Y_test = train_test_split(X, Y, test_size=0.2, random_state=42)"
   ]
  },
  {
   "cell_type": "markdown",
   "id": "54a390e6-81b9-4aa9-9bbe-81cb4109bc5d",
   "metadata": {},
   "source": [
    "Преобразование текстов в числовой формат"
   ]
  },
  {
   "cell_type": "code",
   "execution_count": 8,
   "id": "837b2efb-1951-46f6-9330-6430d7fbccfa",
   "metadata": {},
   "outputs": [],
   "source": [
    "vectorizer = TfidfVectorizer()\n",
    "Xtrain = vectorizer.fit_transform(X_train)\n",
    "Xtest = vectorizer.transform(X_test)"
   ]
  },
  {
   "cell_type": "markdown",
   "id": "9808c583-a567-4ed8-865b-29c19c67fb1d",
   "metadata": {},
   "source": [
    "**Обучение модели логистической регрессии**"
   ]
  },
  {
   "cell_type": "code",
   "execution_count": 9,
   "id": "b98ddae1-0e1a-4a6a-be35-f5f5868760cd",
   "metadata": {},
   "outputs": [
    {
     "data": {
      "text/plain": [
       "LogisticRegression(max_iter=1000)"
      ]
     },
     "execution_count": 9,
     "metadata": {},
     "output_type": "execute_result"
    }
   ],
   "source": [
    "model = LogisticRegression(max_iter=1000)\n",
    "model.fit(Xtrain, Y_train)"
   ]
  },
  {
   "cell_type": "markdown",
   "id": "8870a3c1-0676-4511-a429-0fabda04a5b2",
   "metadata": {},
   "source": [
    "Прогнозирование на тестовой выборке"
   ]
  },
  {
   "cell_type": "code",
   "execution_count": 10,
   "id": "0bb831b4-aa70-4238-a1a2-313770421505",
   "metadata": {},
   "outputs": [],
   "source": [
    "Ypred = model.predict(Xtest)"
   ]
  },
  {
   "cell_type": "markdown",
   "id": "ca843525-477b-4110-906b-15cdeda47fed",
   "metadata": {},
   "source": [
    "Оценка качества модели"
   ]
  },
  {
   "cell_type": "code",
   "execution_count": 11,
   "id": "4685e9de-19dc-4acc-92a8-238fc2dbe891",
   "metadata": {},
   "outputs": [],
   "source": [
    "class_report = classification_report(Y_test, Ypred)"
   ]
  },
  {
   "cell_type": "code",
   "execution_count": 12,
   "id": "b0a353c8-7bfa-44b7-89f6-614e5201f0be",
   "metadata": {},
   "outputs": [
    {
     "name": "stdout",
     "output_type": "stream",
     "text": [
      "Classification Report:\n",
      "              precision    recall  f1-score   support\n",
      "\n",
      "    neautral       0.63      0.64      0.64      6060\n",
      "    negative       0.72      0.72      0.72      5942\n",
      "    positive       0.87      0.85      0.86      5998\n",
      "\n",
      "    accuracy                           0.74     18000\n",
      "   macro avg       0.74      0.74      0.74     18000\n",
      "weighted avg       0.74      0.74      0.74     18000\n",
      "\n"
     ]
    }
   ],
   "source": [
    "print('Classification Report:')\n",
    "print(class_report)"
   ]
  },
  {
   "cell_type": "markdown",
   "id": "cffed28f-1066-4934-b37d-98441f0d02e5",
   "metadata": {},
   "source": [
    "**Обучение модели случайного леса**"
   ]
  },
  {
   "cell_type": "code",
   "execution_count": 13,
   "id": "5ab8994c-536a-48a8-8c61-6a718c85de27",
   "metadata": {},
   "outputs": [
    {
     "data": {
      "text/plain": [
       "RandomForestClassifier(max_depth=10, n_estimators=50, n_jobs=-1)"
      ]
     },
     "execution_count": 13,
     "metadata": {},
     "output_type": "execute_result"
    }
   ],
   "source": [
    "from sklearn.ensemble import RandomForestClassifier\n",
    "rf_model = RandomForestClassifier(n_estimators=50, max_depth=10, n_jobs=-1)\n",
    "rf_model.fit(Xtrain, Y_train)"
   ]
  },
  {
   "cell_type": "markdown",
   "id": "ca6947df-8edc-4d27-bff3-977944d461e1",
   "metadata": {},
   "source": [
    "Прогнозирование на тестовой выборке"
   ]
  },
  {
   "cell_type": "code",
   "execution_count": 14,
   "id": "148ead38-b255-4c3f-b21f-b9d7a42974ba",
   "metadata": {},
   "outputs": [],
   "source": [
    "ypred = rf_model.predict(Xtest)"
   ]
  },
  {
   "cell_type": "markdown",
   "id": "b3f23c73-85d4-4cb5-8a23-d3ce6991b015",
   "metadata": {},
   "source": [
    "Оценка качества модели "
   ]
  },
  {
   "cell_type": "code",
   "execution_count": 15,
   "id": "5c58e814-6891-40f2-975c-ed16298db507",
   "metadata": {},
   "outputs": [],
   "source": [
    "class_report_rf = classification_report(Y_test, ypred)"
   ]
  },
  {
   "cell_type": "code",
   "execution_count": 16,
   "id": "8e4f66ff-ea4d-4484-af69-386f9114a558",
   "metadata": {},
   "outputs": [
    {
     "name": "stdout",
     "output_type": "stream",
     "text": [
      "Classification Report:\n",
      "              precision    recall  f1-score   support\n",
      "\n",
      "    neautral       0.54      0.58      0.56      6060\n",
      "    negative       0.68      0.63      0.65      5942\n",
      "    positive       0.74      0.74      0.74      5998\n",
      "\n",
      "    accuracy                           0.65     18000\n",
      "   macro avg       0.65      0.65      0.65     18000\n",
      "weighted avg       0.65      0.65      0.65     18000\n",
      "\n"
     ]
    }
   ],
   "source": [
    "print('Classification Report:')\n",
    "print(class_report_rf)"
   ]
  },
  {
   "cell_type": "markdown",
   "id": "60f053a6-bd90-4195-b4a1-798a7f807025",
   "metadata": {},
   "source": [
    "**Обучение модели Support Vector Machine** "
   ]
  },
  {
   "cell_type": "code",
   "execution_count": 17,
   "id": "aaa31bd4-febb-4c61-8898-a236c0b2292a",
   "metadata": {},
   "outputs": [
    {
     "data": {
      "text/plain": [
       "LinearSVC()"
      ]
     },
     "execution_count": 17,
     "metadata": {},
     "output_type": "execute_result"
    }
   ],
   "source": [
    "from sklearn.svm import LinearSVC\n",
    "svm_model = LinearSVC()\n",
    "svm_model.fit(Xtrain, Y_train)"
   ]
  },
  {
   "cell_type": "markdown",
   "id": "4faeeef3-09ea-417d-86b7-b9871946285e",
   "metadata": {},
   "source": [
    "Прогнозирование на тестовой выборке "
   ]
  },
  {
   "cell_type": "code",
   "execution_count": 18,
   "id": "38f22ddf-e86a-4da1-b1c2-e3c1b1405f29",
   "metadata": {},
   "outputs": [],
   "source": [
    "y_pred_svm = svm_model.predict(Xtest)"
   ]
  },
  {
   "cell_type": "markdown",
   "id": "7a5cbd28-a9dd-4527-9416-f102d1fc6ce5",
   "metadata": {},
   "source": [
    "Оценка качества модели "
   ]
  },
  {
   "cell_type": "code",
   "execution_count": 19,
   "id": "699dc694-2069-451f-9bfa-e5acb7e24233",
   "metadata": {},
   "outputs": [],
   "source": [
    "class_report_svm = classification_report(Y_test, y_pred_svm)"
   ]
  },
  {
   "cell_type": "code",
   "execution_count": 20,
   "id": "3f49b3be-6281-413a-be88-e40662435a02",
   "metadata": {},
   "outputs": [
    {
     "name": "stdout",
     "output_type": "stream",
     "text": [
      "Support Vector Machine Classification Report:\n",
      "              precision    recall  f1-score   support\n",
      "\n",
      "    neautral       0.62      0.60      0.61      6060\n",
      "    negative       0.69      0.71      0.70      5942\n",
      "    positive       0.84      0.85      0.85      5998\n",
      "\n",
      "    accuracy                           0.72     18000\n",
      "   macro avg       0.72      0.72      0.72     18000\n",
      "weighted avg       0.72      0.72      0.72     18000\n",
      "\n"
     ]
    }
   ],
   "source": [
    "print('Support Vector Machine Classification Report:')\n",
    "print(class_report_svm)"
   ]
  },
  {
   "cell_type": "markdown",
   "id": "6f43177e-fa2c-4e95-aedb-fd9c69fea0ee",
   "metadata": {},
   "source": [
    "### Итог"
   ]
  },
  {
   "cell_type": "markdown",
   "id": "4f49b527-f25e-4382-993f-36e9f24f49cc",
   "metadata": {},
   "source": [
    "Точность:\n",
    "1.  LogisticRegression - 0.74\n",
    "2. RandomForestClassifier - 0.65\n",
    "3. LinearSVC - 0.72"
   ]
  },
  {
   "cell_type": "markdown",
   "id": "1685eb75-9cb3-4d26-858b-48f9bb455945",
   "metadata": {},
   "source": [
    "Наилучшая LogisticRegression"
   ]
  },
  {
   "cell_type": "markdown",
   "id": "346bf259-d8a8-4c91-ba99-d0d9fb843011",
   "metadata": {},
   "source": [
    "Deeppavlov не можем оценить(не хватает памяти)"
   ]
  }
 ],
 "metadata": {
  "kernelspec": {
   "display_name": "Python 3 (ipykernel)",
   "language": "python",
   "name": "python3"
  },
  "language_info": {
   "codemirror_mode": {
    "name": "ipython",
    "version": 3
   },
   "file_extension": ".py",
   "mimetype": "text/x-python",
   "name": "python",
   "nbconvert_exporter": "python",
   "pygments_lexer": "ipython3",
   "version": "3.9.21"
  }
 },
 "nbformat": 4,
 "nbformat_minor": 5
}
