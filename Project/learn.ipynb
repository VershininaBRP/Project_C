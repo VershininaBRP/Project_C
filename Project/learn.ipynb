{
 "cells": [
  {
   "cell_type": "code",
   "execution_count": 1,
   "id": "c18a29a3",
   "metadata": {},
   "outputs": [],
   "source": [
    "import os\n",
    "import cv2\n",
    "import torch\n",
    "import torch.nn as nn\n",
    "import torch.optim as optim\n",
    "from torchvision import transforms\n",
    "from torch.utils.data import Dataset, DataLoader\n",
    "from tqdm import tqdm\n",
    "from sklearn.model_selection import train_test_split\n",
    "from sklearn.metrics import accuracy_score, classification_report"
   ]
  },
  {
   "cell_type": "code",
   "execution_count": 2,
   "id": "dfb8f584",
   "metadata": {},
   "outputs": [
    {
     "name": "stdout",
     "output_type": "stream",
     "text": [
      "Using device: cpu\n"
     ]
    }
   ],
   "source": [
    "# === GPU ===\n",
    "device = torch.device(\"cuda\" if torch.cuda.is_available() else \"cpu\")\n",
    "print(\"Using device:\", device)"
   ]
  },
  {
   "cell_type": "code",
   "execution_count": 3,
   "id": "1c1d8a03",
   "metadata": {},
   "outputs": [],
   "source": [
    "# === Параметры ===\n",
    "video_dir = \"dataset2\"\n",
    "frame_size = (112, 112)\n",
    "frames_per_video = 16\n",
    "batch_size = 4\n",
    "epochs = 10\n",
    "\n",
    "# === Преобразование кадров ===\n",
    "transform = transforms.Compose([\n",
    "    transforms.ToPILImage(),\n",
    "    transforms.Resize(frame_size),\n",
    "    transforms.ToTensor()\n",
    "])\n",
    "\n",
    "# === Извлечение кадров из видео ===\n",
    "def extract_frames(video_path, num_frames=16):\n",
    "    cap = cv2.VideoCapture(video_path)\n",
    "    total_frames = int(cap.get(cv2.CAP_PROP_FRAME_COUNT))\n",
    "    frame_indices = torch.linspace(0, total_frames - 1, num_frames).long()\n",
    "    frames = []\n",
    "    \n",
    "    for i in range(total_frames):\n",
    "        ret, frame = cap.read()\n",
    "        if not ret:\n",
    "            break\n",
    "        if i in frame_indices:\n",
    "            frame = cv2.cvtColor(frame, cv2.COLOR_BGR2RGB)\n",
    "            frame_tensor = transform(frame)\n",
    "            frames.append(frame_tensor)\n",
    "    \n",
    "    cap.release()\n",
    "\n",
    "    # Если кадров меньше — дублируем последний\n",
    "    if len(frames) < num_frames:\n",
    "        for _ in range(num_frames - len(frames)):\n",
    "            frames.append(frames[-1])\n",
    "    \n",
    "    return torch.stack(frames)  # (T, C, H, W)\n",
    "\n",
    "# === Получение всех видео и меток ===\n",
    "all_samples = []\n",
    "for label, folder in enumerate([\"NonViolence\", \"Violence\"]):\n",
    "    folder_path = os.path.join(video_dir, folder)\n",
    "    for file in os.listdir(folder_path):\n",
    "        if file.endswith(\".mp4\"):\n",
    "            all_samples.append((os.path.join(folder_path, file), label))\n",
    "\n",
    "# === Разделение на train/test ===\n",
    "train_samples, test_samples = train_test_split(\n",
    "    all_samples,\n",
    "    test_size=0.2,\n",
    "    stratify=[label for _, label in all_samples],\n",
    "    random_state=42\n",
    ")"
   ]
  },
  {
   "cell_type": "code",
   "execution_count": 4,
   "id": "0e0cdec0",
   "metadata": {},
   "outputs": [],
   "source": [
    "# === Dataset ===\n",
    "class ViolenceDataset(Dataset):\n",
    "    def __init__(self, samples):\n",
    "        self.samples = samples\n",
    "\n",
    "    def __len__(self):\n",
    "        return len(self.samples)\n",
    "\n",
    "    def __getitem__(self, idx):\n",
    "        video_path, label = self.samples[idx]\n",
    "        video_tensor = extract_frames(video_path, num_frames=frames_per_video)\n",
    "        return video_tensor, torch.tensor(label, dtype=torch.long)\n",
    "\n",
    "# === DataLoader ===\n",
    "train_dataset = ViolenceDataset(train_samples)\n",
    "test_dataset = ViolenceDataset(test_samples)\n",
    "train_loader = DataLoader(train_dataset, batch_size=batch_size, shuffle=True)\n",
    "test_loader = DataLoader(test_dataset, batch_size=batch_size, shuffle=False)\n"
   ]
  },
  {
   "cell_type": "code",
   "execution_count": 5,
   "id": "a2e269fe",
   "metadata": {},
   "outputs": [],
   "source": [
    "# === Модель 3D CNN ===\n",
    "class Simple3DCNN(nn.Module):\n",
    "    def __init__(self):\n",
    "        super().__init__()\n",
    "        self.model = nn.Sequential(\n",
    "            nn.Conv3d(3, 32, kernel_size=(3,3,3), padding=1),\n",
    "            nn.ReLU(),\n",
    "            nn.MaxPool3d((1,2,2)),\n",
    "\n",
    "            nn.Conv3d(32, 64, kernel_size=(3,3,3), padding=1),\n",
    "            nn.ReLU(),\n",
    "            nn.MaxPool3d((2,2,2)),\n",
    "\n",
    "            nn.Flatten(),\n",
    "            nn.Linear(64 * 8 * 28 * 28, 128),\n",
    "            nn.ReLU(),\n",
    "            nn.Linear(128, 2)\n",
    "        )\n",
    "\n",
    "    def forward(self, x):\n",
    "        # x: (B, T, C, H, W) -> (B, C, T, H, W)\n",
    "        x = x.permute(0, 2, 1, 3, 4)\n",
    "        return self.model(x)\n",
    "\n",
    "model = Simple3DCNN().to(device)\n"
   ]
  },
  {
   "cell_type": "code",
   "execution_count": 6,
   "id": "a48edb3b",
   "metadata": {},
   "outputs": [
    {
     "name": "stderr",
     "output_type": "stream",
     "text": [
      "Epoch 1: 100%|██████████| 762/762 [11:25<00:00,  1.11it/s]  \n"
     ]
    },
    {
     "name": "stdout",
     "output_type": "stream",
     "text": [
      "[Epoch 1] Loss: 392.5915 | Train Acc: 0.7383 | Test Acc: 0.8215\n"
     ]
    },
    {
     "name": "stderr",
     "output_type": "stream",
     "text": [
      "Epoch 2: 100%|██████████| 762/762 [11:47<00:00,  1.08it/s]\n"
     ]
    },
    {
     "name": "stdout",
     "output_type": "stream",
     "text": [
      "[Epoch 2] Loss: 184.6781 | Train Acc: 0.9012 | Test Acc: 0.8753\n"
     ]
    },
    {
     "name": "stderr",
     "output_type": "stream",
     "text": [
      "Epoch 3: 100%|██████████| 762/762 [11:30<00:00,  1.10it/s]\n"
     ]
    },
    {
     "name": "stdout",
     "output_type": "stream",
     "text": [
      "[Epoch 3] Loss: 79.9716 | Train Acc: 0.9580 | Test Acc: 0.9226\n"
     ]
    },
    {
     "name": "stderr",
     "output_type": "stream",
     "text": [
      "Epoch 4: 100%|██████████| 762/762 [11:29<00:00,  1.10it/s]\n"
     ]
    },
    {
     "name": "stdout",
     "output_type": "stream",
     "text": [
      "[Epoch 4] Loss: 41.0220 | Train Acc: 0.9833 | Test Acc: 0.9213\n"
     ]
    },
    {
     "name": "stderr",
     "output_type": "stream",
     "text": [
      "Epoch 5: 100%|██████████| 762/762 [11:26<00:00,  1.11it/s]  \n"
     ]
    },
    {
     "name": "stdout",
     "output_type": "stream",
     "text": [
      "[Epoch 5] Loss: 28.3849 | Train Acc: 0.9902 | Test Acc: 0.9396\n"
     ]
    },
    {
     "name": "stderr",
     "output_type": "stream",
     "text": [
      "Epoch 6: 100%|██████████| 762/762 [11:27<00:00,  1.11it/s] \n"
     ]
    },
    {
     "name": "stdout",
     "output_type": "stream",
     "text": [
      "[Epoch 6] Loss: 31.2351 | Train Acc: 0.9885 | Test Acc: 0.9357\n"
     ]
    },
    {
     "name": "stderr",
     "output_type": "stream",
     "text": [
      "Epoch 7: 100%|██████████| 762/762 [11:25<00:00,  1.11it/s]  \n"
     ]
    },
    {
     "name": "stdout",
     "output_type": "stream",
     "text": [
      "[Epoch 7] Loss: 25.1093 | Train Acc: 0.9882 | Test Acc: 0.9423\n"
     ]
    },
    {
     "name": "stderr",
     "output_type": "stream",
     "text": [
      "Epoch 8: 100%|██████████| 762/762 [11:27<00:00,  1.11it/s]\n"
     ]
    },
    {
     "name": "stdout",
     "output_type": "stream",
     "text": [
      "[Epoch 8] Loss: 13.4695 | Train Acc: 0.9944 | Test Acc: 0.9291\n"
     ]
    },
    {
     "name": "stderr",
     "output_type": "stream",
     "text": [
      "Epoch 9: 100%|██████████| 762/762 [11:28<00:00,  1.11it/s]  \n"
     ]
    },
    {
     "name": "stdout",
     "output_type": "stream",
     "text": [
      "[Epoch 9] Loss: 19.0764 | Train Acc: 0.9908 | Test Acc: 0.9436\n"
     ]
    },
    {
     "name": "stderr",
     "output_type": "stream",
     "text": [
      "Epoch 10: 100%|██████████| 762/762 [09:31<00:00,  1.33it/s]\n"
     ]
    },
    {
     "name": "stdout",
     "output_type": "stream",
     "text": [
      "[Epoch 10] Loss: 10.2405 | Train Acc: 0.9964 | Test Acc: 0.9423\n"
     ]
    }
   ],
   "source": [
    "# === Обучение ===\n",
    "criterion = nn.CrossEntropyLoss()\n",
    "optimizer = optim.Adam(model.parameters(), lr=1e-4)\n",
    "\n",
    "def evaluate(model, dataloader):\n",
    "    model.eval()\n",
    "    all_preds = []\n",
    "    all_labels = []\n",
    "    with torch.no_grad():\n",
    "        for inputs, labels in dataloader:\n",
    "            inputs, labels = inputs.to(device), labels.to(device)\n",
    "            outputs = model(inputs)\n",
    "            preds = outputs.argmax(dim=1)\n",
    "            all_preds.extend(preds.cpu().numpy())\n",
    "            all_labels.extend(labels.cpu().numpy())\n",
    "    acc = accuracy_score(all_labels, all_preds)\n",
    "    return acc, all_labels, all_preds\n",
    "\n",
    "for epoch in range(epochs):\n",
    "    model.train()\n",
    "    running_loss = 0.0\n",
    "    all_preds = []\n",
    "    all_labels = []\n",
    "    for inputs, labels in tqdm(train_loader, desc=f\"Epoch {epoch+1}\"):\n",
    "        inputs, labels = inputs.to(device), labels.to(device)\n",
    "        outputs = model(inputs)\n",
    "\n",
    "        loss = criterion(outputs, labels)\n",
    "        optimizer.zero_grad()\n",
    "        loss.backward()\n",
    "        optimizer.step()\n",
    "\n",
    "        running_loss += loss.item()\n",
    "        all_preds.extend(outputs.argmax(dim=1).cpu().numpy())\n",
    "        all_labels.extend(labels.cpu().numpy())\n",
    "    \n",
    "    acc_train = accuracy_score(all_labels, all_preds)\n",
    "    acc_test, test_true, test_pred = evaluate(model, test_loader)\n",
    "    \n",
    "    print(f\"[Epoch {epoch+1}] Loss: {running_loss:.4f} | Train Acc: {acc_train:.4f} | Test Acc: {acc_test:.4f}\")"
   ]
  },
  {
   "cell_type": "code",
   "execution_count": 7,
   "id": "49cd1b03",
   "metadata": {},
   "outputs": [
    {
     "name": "stdout",
     "output_type": "stream",
     "text": [
      "\n",
      "📊 Классификационный отчёт (Test Set):\n",
      "              precision    recall  f1-score   support\n",
      "\n",
      " NonViolence       0.94      0.95      0.94       372\n",
      "    Violence       0.95      0.94      0.94       390\n",
      "\n",
      "    accuracy                           0.94       762\n",
      "   macro avg       0.94      0.94      0.94       762\n",
      "weighted avg       0.94      0.94      0.94       762\n",
      "\n",
      "✅ Модель сохранена как 'violence_detector.pth'\n"
     ]
    }
   ],
   "source": [
    "# === Метрики на тесте ===\n",
    "print(\"\\n📊 Классификационный отчёт (Test Set):\")\n",
    "print(classification_report(test_true, test_pred, target_names=[\"NonViolence\", \"Violence\"]))\n",
    "\n",
    "# === Сохранение модели ===\n",
    "torch.save(model.state_dict(), \"violence_detector.pth\")\n",
    "print(\"✅ Модель сохранена как 'violence_detector.pth'\")"
   ]
  }
 ],
 "metadata": {
  "kernelspec": {
   "display_name": "Python 3 (ipykernel)",
   "language": "python",
   "name": "python3"
  },
  "language_info": {
   "codemirror_mode": {
    "name": "ipython",
    "version": 3
   },
   "file_extension": ".py",
   "mimetype": "text/x-python",
   "name": "python",
   "nbconvert_exporter": "python",
   "pygments_lexer": "ipython3",
   "version": "3.10.9"
  }
 },
 "nbformat": 4,
 "nbformat_minor": 5
}
