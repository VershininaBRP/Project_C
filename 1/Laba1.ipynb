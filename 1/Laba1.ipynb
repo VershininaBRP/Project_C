{
 "cells": [
  {
   "cell_type": "markdown",
   "id": "2ca6e35f-bdff-4036-a9be-06a966abc16c",
   "metadata": {},
   "source": [
    "# Лабораторная 1"
   ]
  },
  {
   "cell_type": "markdown",
   "id": "ddb4fd0b-8c7a-4e8e-ba56-4d74018c1be9",
   "metadata": {},
   "source": [
    "## Установка зависимостей и библиотеки"
   ]
  },
  {
   "cell_type": "code",
   "execution_count": 1,
   "id": "95ff74ba-754a-401e-a456-8d5e5acae898",
   "metadata": {},
   "outputs": [
    {
     "name": "stdout",
     "output_type": "stream",
     "text": [
      "Requirement already satisfied: deeppavlov in d:\\gadd\\envs\\brp\\lib\\site-packages (1.7.0)\n",
      "Requirement already satisfied: fastapi<=0.89.1,>=0.47.0 in d:\\gadd\\envs\\brp\\lib\\site-packages (from deeppavlov) (0.89.1)\n",
      "Requirement already satisfied: filelock<3.10.0,>=3.0.0 in d:\\gadd\\envs\\brp\\lib\\site-packages (from deeppavlov) (3.9.1)\n",
      "Requirement already satisfied: nltk<3.10.0,>=3.2.4 in d:\\gadd\\envs\\brp\\lib\\site-packages (from deeppavlov) (3.9.1)\n",
      "Requirement already satisfied: numpy<1.24 in d:\\gadd\\envs\\brp\\lib\\site-packages (from deeppavlov) (1.23.5)\n",
      "Requirement already satisfied: pandas<1.6.0,>=1.0.0 in d:\\gadd\\envs\\brp\\lib\\site-packages (from deeppavlov) (1.5.3)\n",
      "Requirement already satisfied: prometheus-client<=1.16.0,>=0.13.0 in d:\\gadd\\envs\\brp\\lib\\site-packages (from deeppavlov) (0.21.0)\n",
      "Requirement already satisfied: pydantic<2 in d:\\gadd\\envs\\brp\\lib\\site-packages (from deeppavlov) (1.10.21)\n",
      "Requirement already satisfied: pybind11==2.10.3 in d:\\gadd\\envs\\brp\\lib\\site-packages (from deeppavlov) (2.10.3)\n",
      "Requirement already satisfied: requests<3.0.0,>=2.19.0 in d:\\gadd\\envs\\brp\\lib\\site-packages (from deeppavlov) (2.32.3)\n",
      "Requirement already satisfied: tqdm<4.65.0,>=4.42.0 in d:\\gadd\\envs\\brp\\lib\\site-packages (from deeppavlov) (4.64.1)\n",
      "Requirement already satisfied: uvicorn<0.19.0,>=0.13.0 in d:\\gadd\\envs\\brp\\lib\\site-packages (from deeppavlov) (0.18.3)\n",
      "Requirement already satisfied: wheel in d:\\gadd\\envs\\brp\\lib\\site-packages (from deeppavlov) (0.45.1)\n",
      "Requirement already satisfied: scikit-learn<1.1.0,>=0.24 in d:\\gadd\\envs\\brp\\lib\\site-packages (from deeppavlov) (1.0.2)\n",
      "Requirement already satisfied: scipy==1.10.0 in d:\\gadd\\envs\\brp\\lib\\site-packages (from deeppavlov) (1.10.0)\n",
      "Requirement already satisfied: starlette==0.22.0 in d:\\gadd\\envs\\brp\\lib\\site-packages (from fastapi<=0.89.1,>=0.47.0->deeppavlov) (0.22.0)\n",
      "Requirement already satisfied: anyio<5,>=3.4.0 in d:\\gadd\\envs\\brp\\lib\\site-packages (from starlette==0.22.0->fastapi<=0.89.1,>=0.47.0->deeppavlov) (4.6.2)\n",
      "Requirement already satisfied: typing-extensions>=3.10.0 in d:\\gadd\\envs\\brp\\lib\\site-packages (from starlette==0.22.0->fastapi<=0.89.1,>=0.47.0->deeppavlov) (4.12.2)\n",
      "Requirement already satisfied: click in d:\\gadd\\envs\\brp\\lib\\site-packages (from nltk<3.10.0,>=3.2.4->deeppavlov) (8.1.8)\n",
      "Requirement already satisfied: joblib in d:\\gadd\\envs\\brp\\lib\\site-packages (from nltk<3.10.0,>=3.2.4->deeppavlov) (1.4.2)\n",
      "Requirement already satisfied: regex>=2021.8.3 in d:\\gadd\\envs\\brp\\lib\\site-packages (from nltk<3.10.0,>=3.2.4->deeppavlov) (2024.11.6)\n",
      "Requirement already satisfied: python-dateutil>=2.8.1 in d:\\gadd\\envs\\brp\\lib\\site-packages (from pandas<1.6.0,>=1.0.0->deeppavlov) (2.9.0.post0)\n",
      "Requirement already satisfied: pytz>=2020.1 in d:\\gadd\\envs\\brp\\lib\\site-packages (from pandas<1.6.0,>=1.0.0->deeppavlov) (2025.1)\n",
      "Requirement already satisfied: charset-normalizer<4,>=2 in d:\\gadd\\envs\\brp\\lib\\site-packages (from requests<3.0.0,>=2.19.0->deeppavlov) (3.3.2)\n",
      "Requirement already satisfied: idna<4,>=2.5 in d:\\gadd\\envs\\brp\\lib\\site-packages (from requests<3.0.0,>=2.19.0->deeppavlov) (3.7)\n",
      "Requirement already satisfied: urllib3<3,>=1.21.1 in d:\\gadd\\envs\\brp\\lib\\site-packages (from requests<3.0.0,>=2.19.0->deeppavlov) (2.3.0)\n",
      "Requirement already satisfied: certifi>=2017.4.17 in d:\\gadd\\envs\\brp\\lib\\site-packages (from requests<3.0.0,>=2.19.0->deeppavlov) (2025.1.31)\n",
      "Requirement already satisfied: threadpoolctl>=2.0.0 in d:\\gadd\\envs\\brp\\lib\\site-packages (from scikit-learn<1.1.0,>=0.24->deeppavlov) (3.5.0)\n",
      "Requirement already satisfied: colorama in d:\\gadd\\envs\\brp\\lib\\site-packages (from tqdm<4.65.0,>=4.42.0->deeppavlov) (0.4.6)\n",
      "Requirement already satisfied: h11>=0.8 in d:\\gadd\\envs\\brp\\lib\\site-packages (from uvicorn<0.19.0,>=0.13.0->deeppavlov) (0.14.0)\n",
      "Requirement already satisfied: six>=1.5 in d:\\gadd\\envs\\brp\\lib\\site-packages (from python-dateutil>=2.8.1->pandas<1.6.0,>=1.0.0->deeppavlov) (1.16.0)\n",
      "Requirement already satisfied: sniffio>=1.1 in d:\\gadd\\envs\\brp\\lib\\site-packages (from anyio<5,>=3.4.0->starlette==0.22.0->fastapi<=0.89.1,>=0.47.0->deeppavlov) (1.3.0)\n",
      "Requirement already satisfied: exceptiongroup>=1.0.2 in d:\\gadd\\envs\\brp\\lib\\site-packages (from anyio<5,>=3.4.0->starlette==0.22.0->fastapi<=0.89.1,>=0.47.0->deeppavlov) (1.2.0)\n"
     ]
    }
   ],
   "source": [
    "!pip install deeppavlov"
   ]
  },
  {
   "cell_type": "code",
   "execution_count": 2,
   "id": "4df4fa9b-7a6e-4a05-83ff-cc44aad86cc9",
   "metadata": {},
   "outputs": [
    {
     "name": "stdout",
     "output_type": "stream",
     "text": [
      "Ignoring transformers: markers 'python_version < \"3.8\"' don't match your environment\n",
      "Requirement already satisfied: transformers==4.30.0 in d:\\gadd\\envs\\brp\\lib\\site-packages (4.30.0)\n",
      "Requirement already satisfied: filelock in d:\\gadd\\envs\\brp\\lib\\site-packages (from transformers==4.30.0) (3.9.1)\n",
      "Requirement already satisfied: huggingface-hub<1.0,>=0.14.1 in d:\\gadd\\envs\\brp\\lib\\site-packages (from transformers==4.30.0) (0.29.1)\n",
      "Requirement already satisfied: numpy>=1.17 in d:\\gadd\\envs\\brp\\lib\\site-packages (from transformers==4.30.0) (1.23.5)\n",
      "Requirement already satisfied: packaging>=20.0 in d:\\gadd\\envs\\brp\\lib\\site-packages (from transformers==4.30.0) (24.2)\n",
      "Requirement already satisfied: pyyaml>=5.1 in d:\\gadd\\envs\\brp\\lib\\site-packages (from transformers==4.30.0) (6.0.2)\n",
      "Requirement already satisfied: regex!=2019.12.17 in d:\\gadd\\envs\\brp\\lib\\site-packages (from transformers==4.30.0) (2024.11.6)\n",
      "Requirement already satisfied: requests in d:\\gadd\\envs\\brp\\lib\\site-packages (from transformers==4.30.0) (2.32.3)\n",
      "Requirement already satisfied: tokenizers!=0.11.3,<0.14,>=0.11.1 in d:\\gadd\\envs\\brp\\lib\\site-packages (from transformers==4.30.0) (0.13.3)\n",
      "Requirement already satisfied: safetensors>=0.3.1 in d:\\gadd\\envs\\brp\\lib\\site-packages (from transformers==4.30.0) (0.5.2)\n",
      "Requirement already satisfied: tqdm>=4.27 in d:\\gadd\\envs\\brp\\lib\\site-packages (from transformers==4.30.0) (4.64.1)\n",
      "Requirement already satisfied: fsspec>=2023.5.0 in d:\\gadd\\envs\\brp\\lib\\site-packages (from huggingface-hub<1.0,>=0.14.1->transformers==4.30.0) (2025.2.0)\n",
      "Requirement already satisfied: typing-extensions>=3.7.4.3 in d:\\gadd\\envs\\brp\\lib\\site-packages (from huggingface-hub<1.0,>=0.14.1->transformers==4.30.0) (4.12.2)\n",
      "Requirement already satisfied: colorama in d:\\gadd\\envs\\brp\\lib\\site-packages (from tqdm>=4.27->transformers==4.30.0) (0.4.6)\n",
      "Requirement already satisfied: charset-normalizer<4,>=2 in d:\\gadd\\envs\\brp\\lib\\site-packages (from requests->transformers==4.30.0) (3.3.2)\n",
      "Requirement already satisfied: idna<4,>=2.5 in d:\\gadd\\envs\\brp\\lib\\site-packages (from requests->transformers==4.30.0) (3.7)\n",
      "Requirement already satisfied: urllib3<3,>=1.21.1 in d:\\gadd\\envs\\brp\\lib\\site-packages (from requests->transformers==4.30.0) (2.3.0)\n",
      "Requirement already satisfied: certifi>=2017.4.17 in d:\\gadd\\envs\\brp\\lib\\site-packages (from requests->transformers==4.30.0) (2025.1.31)\n",
      "Requirement already satisfied: torch<1.14.0,>=1.6.0 in d:\\gadd\\envs\\brp\\lib\\site-packages (1.13.1)\n",
      "Requirement already satisfied: typing-extensions in d:\\gadd\\envs\\brp\\lib\\site-packages (from torch<1.14.0,>=1.6.0) (4.12.2)\n"
     ]
    }
   ],
   "source": [
    "!python -m deeppavlov install insults_kaggle_bert"
   ]
  },
  {
   "cell_type": "code",
   "execution_count": 3,
   "id": "e5f263d1-5b63-45a7-8cdf-7f636091533a",
   "metadata": {},
   "outputs": [
    {
     "name": "stderr",
     "output_type": "stream",
     "text": [
      "2025-02-25 22:34:12.913 INFO in 'deeppavlov.download'['download'] at line 138: Skipped http://files.deeppavlov.ai/deeppavlov_data/classifiers/insults_kaggle_torch_bert_v5.tar.gz?config=insults_kaggle_bert download because of matching hashes\n",
      "2025-02-25 22:34:13.480 INFO in 'deeppavlov.download'['download'] at line 138: Skipped http://files.deeppavlov.ai/datasets/insults_data.tar.gz?config=insults_kaggle_bert download because of matching hashes\n"
     ]
    }
   ],
   "source": [
    "!python -m deeppavlov download insults_kaggle_bert"
   ]
  },
  {
   "cell_type": "markdown",
   "id": "ec937308-7998-4611-af11-31d947b5d791",
   "metadata": {},
   "source": [
    "Импорт библиотек "
   ]
  },
  {
   "cell_type": "code",
   "execution_count": 4,
   "id": "8026f394-a27a-4762-80c2-f63a7d040738",
   "metadata": {},
   "outputs": [
    {
     "name": "stderr",
     "output_type": "stream",
     "text": [
      "[nltk_data] Downloading package punkt_tab to\n",
      "[nltk_data]     C:\\Users\\ПК\\AppData\\Roaming\\nltk_data...\n",
      "[nltk_data]   Package punkt_tab is already up-to-date!\n"
     ]
    },
    {
     "data": {
      "text/plain": [
       "True"
      ]
     },
     "execution_count": 4,
     "metadata": {},
     "output_type": "execute_result"
    }
   ],
   "source": [
    "from deeppavlov import build_model\n",
    "import nltk\n",
    "nltk.download('punkt_tab')"
   ]
  },
  {
   "cell_type": "markdown",
   "id": "6d340ef5-e3f2-4f88-ba34-a51ba941261d",
   "metadata": {},
   "source": [
    "Инициализируем загрузку модели squad_ru_bert"
   ]
  },
  {
   "cell_type": "code",
   "execution_count": 5,
   "id": "8d3b1359-38f6-4d8b-8c95-f71881a91262",
   "metadata": {},
   "outputs": [
    {
     "name": "stderr",
     "output_type": "stream",
     "text": [
      "2025-02-25 22:34:23.230 INFO in 'deeppavlov.download'['download'] at line 138: Skipped http://files.deeppavlov.ai/v1/squad/squad_ru_torch_bert.tar.gz download because of matching hashes\n",
      "D:\\gadd\\envs\\Brp\\lib\\site-packages\\huggingface_hub\\file_download.py:797: FutureWarning: `resume_download` is deprecated and will be removed in version 1.0.0. Downloads always resume when possible. If you want to force a new download, use `force_download=True`.\n",
      "  warnings.warn(\n",
      "Some weights of the model checkpoint at DeepPavlov/rubert-base-cased were not used when initializing BertForQuestionAnswering: ['cls.seq_relationship.weight', 'cls.predictions.transform.dense.bias', 'cls.predictions.bias', 'cls.seq_relationship.bias', 'cls.predictions.transform.LayerNorm.bias', 'cls.predictions.decoder.bias', 'cls.predictions.decoder.weight', 'cls.predictions.transform.dense.weight', 'cls.predictions.transform.LayerNorm.weight']\n",
      "- This IS expected if you are initializing BertForQuestionAnswering from the checkpoint of a model trained on another task or with another architecture (e.g. initializing a BertForSequenceClassification model from a BertForPreTraining model).\n",
      "- This IS NOT expected if you are initializing BertForQuestionAnswering from the checkpoint of a model that you expect to be exactly identical (initializing a BertForSequenceClassification model from a BertForSequenceClassification model).\n",
      "Some weights of BertForQuestionAnswering were not initialized from the model checkpoint at DeepPavlov/rubert-base-cased and are newly initialized: ['qa_outputs.bias', 'qa_outputs.weight']\n",
      "You should probably TRAIN this model on a down-stream task to be able to use it for predictions and inference.\n",
      "2025-02-25 22:34:29.244 WARNING in 'deeppavlov.core.models.torch_model'['torch_model'] at line 96: Unable to place component TorchTransformersSquad on GPU, since no CUDA GPUs are available. Using CPU.\n"
     ]
    }
   ],
   "source": [
    "model=build_model('squad_ru_bert', download=True)"
   ]
  },
  {
   "cell_type": "markdown",
   "id": "bbf56ff1-66cc-4c83-be59-df7bfe276122",
   "metadata": {},
   "source": [
    "Код для получения текста с сайта"
   ]
  },
  {
   "cell_type": "code",
   "execution_count": 6,
   "id": "eaf1e651-76b3-46ee-a2c7-92bf321663a0",
   "metadata": {},
   "outputs": [],
   "source": [
    "from urllib import request\n",
    "def getHtmlDocument(url):\n",
    "    fp = request.urlopen(url)\n",
    "    mybytes = fp.read()\n",
    "    fp.close()\n",
    "    return mybytes.decode('utf8')"
   ]
  },
  {
   "cell_type": "code",
   "execution_count": 7,
   "id": "0a2c5d2a-840a-4e8e-9aa9-431811242ab2",
   "metadata": {},
   "outputs": [],
   "source": [
    "from bs4 import BeautifulSoup\n",
    "def getTextFromHtml(HtmlDocument):\n",
    "    soup = BeautifulSoup(HtmlDocument,features='html.parser')\n",
    "    content = soup.find('div', {'id': 'post-content-body'})\n",
    "    return content.text"
   ]
  },
  {
   "cell_type": "markdown",
   "id": "a6bc66fb-7d50-4c60-b4e0-7b4c1826119e",
   "metadata": {},
   "source": [
    "Набор вопросов для отчета"
   ]
  },
  {
   "cell_type": "code",
   "execution_count": 8,
   "id": "3cd02fc4-d794-4a97-8eaf-22cbc845c284",
   "metadata": {},
   "outputs": [],
   "source": [
    "questions = (\n",
    "    'О чём статья?',\n",
    "    'Какая цель статьи?',\n",
    "    'Какая задача решалась?',\n",
    "    'Что использовалось в работе?',\n",
    "    'Какие выводы?',\n",
    "    'Что использовалось?',\n",
    "    'Какие алгоритмы использовалось?',\n",
    "    'Какой язык программирования использовали?',\n",
    "    'В чём отличия?',\n",
    "    'Что особенного проявилось?',\n",
    "    'Какова область применения?',\n",
    "    'Что получено?',\n",
    "    'Каков результат?',\n",
    "    'Что получено в заключении?',\n",
    ")"
   ]
  },
  {
   "cell_type": "markdown",
   "id": "081063fa-7a13-4611-9ab4-22d0b05916ee",
   "metadata": {},
   "source": [
    "Статьи с хабра"
   ]
  },
  {
   "cell_type": "code",
   "execution_count": 9,
   "id": "a6805627-2324-4f61-863b-2d9422bfdfbf",
   "metadata": {},
   "outputs": [],
   "source": [
    "paper_urls = (\n",
    "'https://habr.com/ru/articles/339914/',\n",
    "'https://habr.com/ru/articles/339916/',\n",
    ")"
   ]
  },
  {
   "cell_type": "markdown",
   "id": "c705e9d7-6902-49f4-9e7d-c41a48562916",
   "metadata": {},
   "source": [
    "Для ответов на вопросы ниже воспользуемся моделью squad_ru_bert"
   ]
  },
  {
   "cell_type": "code",
   "execution_count": 10,
   "id": "ea5d29bf-a258-49bf-bba2-458ef0b9549b",
   "metadata": {},
   "outputs": [
    {
     "name": "stdout",
     "output_type": "stream",
     "text": [
      "О чём статья?   ['работа машины завершается']\n",
      "Что использовалось в работе?   ['\"состояние-символ\"']\n",
      "Какие выводы?   ['Все работает! На этом можно было бы остановиться, но согласитесь, выглядит довольно сумбурно']\n",
      "Что использовалось?   ['быстрая разработка прототипов']\n",
      "Какие алгоритмы использовалось?   ['ipywidgets.Layout и ipywidgets.Box']\n",
      "Какой язык программирования использовали?   ['Python']\n",
      "В чём отличия?   ['работа машины завершается']\n",
      "Что особенного проявилось?   ['выглядит довольно сумбурно']\n",
      "Что получено?   ['добро пожаловать под кат']\n",
      "Каков результат?   ['работа машины завершается']\n",
      "Что получено в заключении?   ['Все работает! На этом можно было бы остановиться, но согласитесь, выглядит довольно сумбурно']\n",
      "Что использовалось в работе?   ['механизм эскалации']\n",
      "Какие выводы?   ['изменились сроки, объём и другие характеристики решаемой проблемы']\n",
      "Что использовалось?   ['механизм эскалаций']\n",
      "Какой язык программирования использовали?   ['ITIL']\n",
      "В чём отличия?   ['между функциональной и иерархческой эскалацией']\n",
      "Что особенного проявилось?   ['новые существенные обстоятельства решаемой проблемы']\n",
      "Какова область применения?   ['качественно и системно']\n",
      "Что получено?   ['качественно и системно']\n",
      "Каков результат?   ['качественно и системно']\n",
      "Что получено в заключении?   ['исполнитель не ушёл в отпуск']\n"
     ]
    }
   ],
   "source": [
    "for url in paper_urls:\n",
    "    content = getTextFromHtml(getHtmlDocument(url))\n",
    "    for q in questions:\n",
    "        answer = model([content], [q])\n",
    "        if len(answer[2]) > 0 and abs(answer[2][0] - 1) > 1e-6:\n",
    "            print(q, ' ', answer[0])"
   ]
  },
  {
   "cell_type": "markdown",
   "id": "8a62aa56-ca64-447f-bec3-4df336b3889c",
   "metadata": {},
   "source": [
    "Результатом работы модели является фрагмент текста, который является ответом на заданный вопрос на основании текста, позиция этого ответа в тексте и качество полученного результата."
   ]
  }
 ],
 "metadata": {
  "kernelspec": {
   "display_name": "Python 3 (ipykernel)",
   "language": "python",
   "name": "python3"
  },
  "language_info": {
   "codemirror_mode": {
    "name": "ipython",
    "version": 3
   },
   "file_extension": ".py",
   "mimetype": "text/x-python",
   "name": "python",
   "nbconvert_exporter": "python",
   "pygments_lexer": "ipython3",
   "version": "3.9.21"
  }
 },
 "nbformat": 4,
 "nbformat_minor": 5
}
