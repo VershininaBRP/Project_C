{
 "cells": [
  {
   "cell_type": "markdown",
   "id": "8cc1088d-5d9e-450f-9420-a17dbb656f74",
   "metadata": {},
   "source": [
    "# Лабараторная 2"
   ]
  },
  {
   "cell_type": "markdown",
   "id": "8f8b5e9f-0f27-4791-89d0-1154cebb12fa",
   "metadata": {},
   "source": [
    "### Русский датасет"
   ]
  },
  {
   "cell_type": "code",
   "execution_count": 1,
   "id": "a963a765-cc93-48e1-bb70-c97cd589f41b",
   "metadata": {},
   "outputs": [],
   "source": [
    "from deeppavlov import build_model\n",
    "import pandas as pd\n",
    "import re\n",
    "import pymorphy2"
   ]
  },
  {
   "cell_type": "code",
   "execution_count": 2,
   "id": "df21fc2d-d0a5-4c2d-85c3-8291f481dce7",
   "metadata": {},
   "outputs": [
    {
     "data": {
      "text/html": [
       "<div>\n",
       "<style scoped>\n",
       "    .dataframe tbody tr th:only-of-type {\n",
       "        vertical-align: middle;\n",
       "    }\n",
       "\n",
       "    .dataframe tbody tr th {\n",
       "        vertical-align: top;\n",
       "    }\n",
       "\n",
       "    .dataframe thead th {\n",
       "        text-align: right;\n",
       "    }\n",
       "</style>\n",
       "<table border=\"1\" class=\"dataframe\">\n",
       "  <thead>\n",
       "    <tr style=\"text-align: right;\">\n",
       "      <th></th>\n",
       "      <th>Unnamed: 0</th>\n",
       "      <th>text</th>\n",
       "      <th>label</th>\n",
       "      <th>id</th>\n",
       "    </tr>\n",
       "  </thead>\n",
       "  <tbody>\n",
       "    <tr>\n",
       "      <th>0</th>\n",
       "      <td>0</td>\n",
       "      <td>@varlamov @McFaul На</td>\n",
       "      <td>skip</td>\n",
       "      <td>1327934765807308801</td>\n",
       "    </tr>\n",
       "    <tr>\n",
       "      <th>1</th>\n",
       "      <td>1</td>\n",
       "      <td>велл они  всё равно что мусор так что ничего с...</td>\n",
       "      <td>negative</td>\n",
       "      <td>1252943181387350017</td>\n",
       "    </tr>\n",
       "    <tr>\n",
       "      <th>2</th>\n",
       "      <td>2</td>\n",
       "      <td>\"трезвая жизнь какая-то такая стрёмная\"\\r\\n(с)...</td>\n",
       "      <td>negative</td>\n",
       "      <td>1323610669061677056</td>\n",
       "    </tr>\n",
       "    <tr>\n",
       "      <th>3</th>\n",
       "      <td>3</td>\n",
       "      <td>Ой какие неожиданные результаты 🤭 https://t.co...</td>\n",
       "      <td>neutral</td>\n",
       "      <td>1336231661160247297</td>\n",
       "    </tr>\n",
       "    <tr>\n",
       "      <th>4</th>\n",
       "      <td>4</td>\n",
       "      <td>@Shvonder_chief @dimsmirnov175 На заборе тоже ...</td>\n",
       "      <td>neutral</td>\n",
       "      <td>1292421736454127617</td>\n",
       "    </tr>\n",
       "    <tr>\n",
       "      <th>5</th>\n",
       "      <td>5</td>\n",
       "      <td>@idkwhht мы тоже мебельная компания уджина😳😳😳</td>\n",
       "      <td>neutral</td>\n",
       "      <td>1303753911174606848</td>\n",
       "    </tr>\n",
       "    <tr>\n",
       "      <th>6</th>\n",
       "      <td>6</td>\n",
       "      <td>Счастья здоровья 10 классникам https://t.co/M9...</td>\n",
       "      <td>speech</td>\n",
       "      <td>1339917376427601921</td>\n",
       "    </tr>\n",
       "    <tr>\n",
       "      <th>7</th>\n",
       "      <td>7</td>\n",
       "      <td>@dntbliev НЕ ПАЛИ.</td>\n",
       "      <td>neutral</td>\n",
       "      <td>1267898207176142848</td>\n",
       "    </tr>\n",
       "    <tr>\n",
       "      <th>8</th>\n",
       "      <td>8</td>\n",
       "      <td>@BTS_twt ты такой красивый 😭😭😭🥺💓</td>\n",
       "      <td>positive</td>\n",
       "      <td>1281551551706865665</td>\n",
       "    </tr>\n",
       "    <tr>\n",
       "      <th>9</th>\n",
       "      <td>9</td>\n",
       "      <td>@Ladyzchensk Цыган , хуле ...</td>\n",
       "      <td>negative</td>\n",
       "      <td>1257761690122358784</td>\n",
       "    </tr>\n",
       "  </tbody>\n",
       "</table>\n",
       "</div>"
      ],
      "text/plain": [
       "   Unnamed: 0                                               text     label  \\\n",
       "0           0                               @varlamov @McFaul На      skip   \n",
       "1           1  велл они  всё равно что мусор так что ничего с...  negative   \n",
       "2           2  \"трезвая жизнь какая-то такая стрёмная\"\\r\\n(с)...  negative   \n",
       "3           3  Ой какие неожиданные результаты 🤭 https://t.co...   neutral   \n",
       "4           4  @Shvonder_chief @dimsmirnov175 На заборе тоже ...   neutral   \n",
       "5           5      @idkwhht мы тоже мебельная компания уджина😳😳😳   neutral   \n",
       "6           6  Счастья здоровья 10 классникам https://t.co/M9...    speech   \n",
       "7           7                                 @dntbliev НЕ ПАЛИ.   neutral   \n",
       "8           8                   @BTS_twt ты такой красивый 😭😭😭🥺💓  positive   \n",
       "9           9                      @Ladyzchensk Цыган , хуле ...  negative   \n",
       "\n",
       "                    id  \n",
       "0  1327934765807308801  \n",
       "1  1252943181387350017  \n",
       "2  1323610669061677056  \n",
       "3  1336231661160247297  \n",
       "4  1292421736454127617  \n",
       "5  1303753911174606848  \n",
       "6  1339917376427601921  \n",
       "7  1267898207176142848  \n",
       "8  1281551551706865665  \n",
       "9  1257761690122358784  "
      ]
     },
     "execution_count": 2,
     "metadata": {},
     "output_type": "execute_result"
    }
   ],
   "source": [
    "data = pd.read_csv('./rusentitweet_full.csv', \n",
    "    engine='python', \n",
    "    on_bad_lines='skip',\n",
    ")\n",
    "data.head(10)"
   ]
  },
  {
   "cell_type": "markdown",
   "id": "0fc2cec6-670f-48b6-b1c4-59f2e1cf6df0",
   "metadata": {},
   "source": [
    "### Предобработка"
   ]
  },
  {
   "cell_type": "markdown",
   "id": "e10cbbf5-6d6c-4ce8-9cca-5ddce125d09e",
   "metadata": {},
   "source": [
    "Удаляем лишние столбцы"
   ]
  },
  {
   "cell_type": "code",
   "execution_count": 3,
   "id": "41e90394-00c4-44f0-9135-75cd11563d98",
   "metadata": {},
   "outputs": [],
   "source": [
    "data = data.drop('Unnamed: 0', axis=1)\n",
    "data = data.drop('id', axis=1)"
   ]
  },
  {
   "cell_type": "markdown",
   "id": "ba744191-18d6-4c34-93c8-e59aa67bd2d7",
   "metadata": {},
   "source": [
    "Меняем значения и тип."
   ]
  },
  {
   "cell_type": "code",
   "execution_count": 4,
   "id": "6d119cc9-4134-4e11-9d44-555ed227d8ce",
   "metadata": {},
   "outputs": [],
   "source": [
    "rep = {\n",
    "    'skip': '0',\n",
    "    'neutral': '0',\n",
    "    'speech': '0',\n",
    "    'positive': '0',\n",
    "    'negative': '1'\n",
    "}\n",
    "data['label'] = data['label'].replace(rep)\n",
    "data['label'] = data['label'].astype(int)"
   ]
  },
  {
   "cell_type": "markdown",
   "id": "80d684f6-ad25-4141-a915-584769d57f14",
   "metadata": {},
   "source": [
    "Векторизация в BERT включена, поэтому мы не будем тут дополнительно прописывать (как с англисйким датасетом)."
   ]
  },
  {
   "cell_type": "markdown",
   "id": "e18414bc-64ff-427b-9187-a756a683855d",
   "metadata": {},
   "source": [
    "Лемматизация"
   ]
  },
  {
   "cell_type": "code",
   "execution_count": 5,
   "id": "ce2407fb-b57f-4365-b368-a55f3bac153d",
   "metadata": {},
   "outputs": [],
   "source": [
    "lem = pymorphy2.MorphAnalyzer()\n",
    "def cls(series: pd.Series) -> pd.Series:\n",
    "    return series.apply(cl)\n",
    "def cl(text: str) -> str:\n",
    "    return clear(lemm(text))\n",
    "def clear(text: str) -> str:\n",
    "    return re.sub(r'[^\\w\\s]', ' ', text)\n",
    "def lemm(text: str) -> str:\n",
    "    return ' '.join(lem.parse(word)[0].normal_form for word in text.lower().split())"
   ]
  },
  {
   "cell_type": "code",
   "execution_count": 6,
   "id": "b0d8af52-7c4a-458e-85a7-e59c7a921a3c",
   "metadata": {},
   "outputs": [],
   "source": [
    "data['newtext'] = cls(data['text'])"
   ]
  },
  {
   "cell_type": "markdown",
   "id": "ce175bf2-99b1-4079-8eba-62ad1fd44abf",
   "metadata": {},
   "source": [
    "Смотрим результат предобработки:"
   ]
  },
  {
   "cell_type": "code",
   "execution_count": 7,
   "id": "d76f4f8f-2378-454b-86da-2fa6ee38b847",
   "metadata": {},
   "outputs": [
    {
     "data": {
      "text/html": [
       "<div>\n",
       "<style scoped>\n",
       "    .dataframe tbody tr th:only-of-type {\n",
       "        vertical-align: middle;\n",
       "    }\n",
       "\n",
       "    .dataframe tbody tr th {\n",
       "        vertical-align: top;\n",
       "    }\n",
       "\n",
       "    .dataframe thead th {\n",
       "        text-align: right;\n",
       "    }\n",
       "</style>\n",
       "<table border=\"1\" class=\"dataframe\">\n",
       "  <thead>\n",
       "    <tr style=\"text-align: right;\">\n",
       "      <th></th>\n",
       "      <th>text</th>\n",
       "      <th>label</th>\n",
       "      <th>newtext</th>\n",
       "    </tr>\n",
       "  </thead>\n",
       "  <tbody>\n",
       "    <tr>\n",
       "      <th>0</th>\n",
       "      <td>@varlamov @McFaul На</td>\n",
       "      <td>0</td>\n",
       "      <td>varlamov  mcfaul на</td>\n",
       "    </tr>\n",
       "    <tr>\n",
       "      <th>1</th>\n",
       "      <td>велл они  всё равно что мусор так что ничего с...</td>\n",
       "      <td>1</td>\n",
       "      <td>велла они всё равно что мусор так что ничего с...</td>\n",
       "    </tr>\n",
       "    <tr>\n",
       "      <th>2</th>\n",
       "      <td>\"трезвая жизнь какая-то такая стрёмная\"\\r\\n(с)...</td>\n",
       "      <td>1</td>\n",
       "      <td>трезвый жизнь какой то такой стрёмная   с  ар...</td>\n",
       "    </tr>\n",
       "    <tr>\n",
       "      <th>3</th>\n",
       "      <td>Ой какие неожиданные результаты 🤭 https://t.co...</td>\n",
       "      <td>0</td>\n",
       "      <td>ой какой неожиданный результат   https   t co ...</td>\n",
       "    </tr>\n",
       "    <tr>\n",
       "      <th>4</th>\n",
       "      <td>@Shvonder_chief @dimsmirnov175 На заборе тоже ...</td>\n",
       "      <td>0</td>\n",
       "      <td>shvonder_chief  dimsmirnov175 на забор тоже н...</td>\n",
       "    </tr>\n",
       "    <tr>\n",
       "      <th>5</th>\n",
       "      <td>@idkwhht мы тоже мебельная компания уджина😳😳😳</td>\n",
       "      <td>0</td>\n",
       "      <td>idkwhht мы тоже мебельный компания уджина</td>\n",
       "    </tr>\n",
       "    <tr>\n",
       "      <th>6</th>\n",
       "      <td>Счастья здоровья 10 классникам https://t.co/M9...</td>\n",
       "      <td>0</td>\n",
       "      <td>счастие здоровье 10 классник https   t co m9vu...</td>\n",
       "    </tr>\n",
       "    <tr>\n",
       "      <th>7</th>\n",
       "      <td>@dntbliev НЕ ПАЛИ.</td>\n",
       "      <td>0</td>\n",
       "      <td>dntbliev не пали</td>\n",
       "    </tr>\n",
       "    <tr>\n",
       "      <th>8</th>\n",
       "      <td>@BTS_twt ты такой красивый 😭😭😭🥺💓</td>\n",
       "      <td>0</td>\n",
       "      <td>bts_twt ты такой красивый</td>\n",
       "    </tr>\n",
       "    <tr>\n",
       "      <th>9</th>\n",
       "      <td>@Ladyzchensk Цыган , хуле ...</td>\n",
       "      <td>1</td>\n",
       "      <td>ladyzchensk цыган   хула</td>\n",
       "    </tr>\n",
       "  </tbody>\n",
       "</table>\n",
       "</div>"
      ],
      "text/plain": [
       "                                                text  label  \\\n",
       "0                               @varlamov @McFaul На      0   \n",
       "1  велл они  всё равно что мусор так что ничего с...      1   \n",
       "2  \"трезвая жизнь какая-то такая стрёмная\"\\r\\n(с)...      1   \n",
       "3  Ой какие неожиданные результаты 🤭 https://t.co...      0   \n",
       "4  @Shvonder_chief @dimsmirnov175 На заборе тоже ...      0   \n",
       "5      @idkwhht мы тоже мебельная компания уджина😳😳😳      0   \n",
       "6  Счастья здоровья 10 классникам https://t.co/M9...      0   \n",
       "7                                 @dntbliev НЕ ПАЛИ.      0   \n",
       "8                   @BTS_twt ты такой красивый 😭😭😭🥺💓      0   \n",
       "9                      @Ladyzchensk Цыган , хуле ...      1   \n",
       "\n",
       "                                             newtext  \n",
       "0                                varlamov  mcfaul на  \n",
       "1  велла они всё равно что мусор так что ничего с...  \n",
       "2   трезвый жизнь какой то такой стрёмная   с  ар...  \n",
       "3  ой какой неожиданный результат   https   t co ...  \n",
       "4   shvonder_chief  dimsmirnov175 на забор тоже н...  \n",
       "5       idkwhht мы тоже мебельный компания уджина     \n",
       "6  счастие здоровье 10 классник https   t co m9vu...  \n",
       "7                                  dntbliev не пали   \n",
       "8                    bts_twt ты такой красивый        \n",
       "9                       ladyzchensk цыган   хула      "
      ]
     },
     "execution_count": 7,
     "metadata": {},
     "output_type": "execute_result"
    }
   ],
   "source": [
    "data.head(10)"
   ]
  },
  {
   "cell_type": "markdown",
   "id": "04c1c204-048d-458e-8167-9121b2d89182",
   "metadata": {},
   "source": [
    "Используем модель rusentiment_convers_bert для предсказания тональности для русского текста"
   ]
  },
  {
   "cell_type": "code",
   "execution_count": 8,
   "id": "43621a48-73ad-4ef6-a3e7-78cd4d8d0b58",
   "metadata": {},
   "outputs": [
    {
     "name": "stderr",
     "output_type": "stream",
     "text": [
      "2025-03-02 15:59:59.549 INFO in 'deeppavlov.download'['download'] at line 138: Skipped http://files.deeppavlov.ai/v1/classifiers/rusentiment_convers_bert/rusentiment_convers_bert_torch.tar.gz download because of matching hashes\n",
      "D:\\gadd\\envs\\Brp2\\lib\\site-packages\\tqdm\\auto.py:22: TqdmWarning: IProgress not found. Please update jupyter and ipywidgets. See https://ipywidgets.readthedocs.io/en/stable/user_install.html\n",
      "  from .autonotebook import tqdm as notebook_tqdm\n",
      "D:\\gadd\\envs\\Brp2\\lib\\site-packages\\huggingface_hub\\file_download.py:797: FutureWarning: `resume_download` is deprecated and will be removed in version 1.0.0. Downloads always resume when possible. If you want to force a new download, use `force_download=True`.\n",
      "  warnings.warn(\n",
      "Some weights of the model checkpoint at DeepPavlov/rubert-base-cased-conversational were not used when initializing BertForSequenceClassification: ['cls.predictions.decoder.bias', 'cls.predictions.transform.LayerNorm.weight', 'cls.seq_relationship.bias', 'cls.predictions.decoder.weight', 'cls.predictions.transform.dense.bias', 'cls.predictions.bias', 'cls.seq_relationship.weight', 'cls.predictions.transform.LayerNorm.bias', 'cls.predictions.transform.dense.weight']\n",
      "- This IS expected if you are initializing BertForSequenceClassification from the checkpoint of a model trained on another task or with another architecture (e.g. initializing a BertForSequenceClassification model from a BertForPreTraining model).\n",
      "- This IS NOT expected if you are initializing BertForSequenceClassification from the checkpoint of a model that you expect to be exactly identical (initializing a BertForSequenceClassification model from a BertForSequenceClassification model).\n",
      "Some weights of BertForSequenceClassification were not initialized from the model checkpoint at DeepPavlov/rubert-base-cased-conversational and are newly initialized: ['classifier.bias', 'classifier.weight']\n",
      "You should probably TRAIN this model on a down-stream task to be able to use it for predictions and inference.\n",
      "2025-03-02 16:00:07.740 WARNING in 'deeppavlov.core.models.torch_model'['torch_model'] at line 96: Unable to place component TorchTransformersClassifierModel on GPU, since no CUDA GPUs are available. Using CPU.\n"
     ]
    }
   ],
   "source": [
    "model = build_model('rusentiment_convers_bert', download=True, install=True)"
   ]
  },
  {
   "cell_type": "markdown",
   "id": "ff2d6d42-64a0-47b8-b64c-e9041d876a48",
   "metadata": {},
   "source": [
    "Тут такая же проблема(как и с английским датасетом) - большой объем датасета."
   ]
  },
  {
   "cell_type": "markdown",
   "id": "a7d8a6b8-b980-492a-8375-e709db58cf2b",
   "metadata": {},
   "source": [
    "Поэтому копируем в новую таблицу первую 1000 строк и работаем с ними."
   ]
  },
  {
   "cell_type": "code",
   "execution_count": 9,
   "id": "7088dbbd-a7a0-4661-884b-9907fe8d2295",
   "metadata": {},
   "outputs": [],
   "source": [
    "data2 = data.head(1000).copy()\n",
    "data2['res'] = model(data2['newtext'].tolist())\n",
    "data.loc[:999, 'res'] = data2['res']"
   ]
  },
  {
   "cell_type": "markdown",
   "id": "dff6e484-38a0-45d9-961f-a5ef11f5e343",
   "metadata": {},
   "source": [
    "Итог работы:"
   ]
  },
  {
   "cell_type": "code",
   "execution_count": 10,
   "id": "68ca5217-3a4f-4bd3-84b9-d306e4a23d27",
   "metadata": {},
   "outputs": [
    {
     "data": {
      "text/html": [
       "<div>\n",
       "<style scoped>\n",
       "    .dataframe tbody tr th:only-of-type {\n",
       "        vertical-align: middle;\n",
       "    }\n",
       "\n",
       "    .dataframe tbody tr th {\n",
       "        vertical-align: top;\n",
       "    }\n",
       "\n",
       "    .dataframe thead th {\n",
       "        text-align: right;\n",
       "    }\n",
       "</style>\n",
       "<table border=\"1\" class=\"dataframe\">\n",
       "  <thead>\n",
       "    <tr style=\"text-align: right;\">\n",
       "      <th></th>\n",
       "      <th>text</th>\n",
       "      <th>label</th>\n",
       "      <th>newtext</th>\n",
       "      <th>res</th>\n",
       "    </tr>\n",
       "  </thead>\n",
       "  <tbody>\n",
       "    <tr>\n",
       "      <th>0</th>\n",
       "      <td>@varlamov @McFaul На</td>\n",
       "      <td>0</td>\n",
       "      <td>varlamov  mcfaul на</td>\n",
       "      <td>neutral</td>\n",
       "    </tr>\n",
       "    <tr>\n",
       "      <th>1</th>\n",
       "      <td>велл они  всё равно что мусор так что ничего с...</td>\n",
       "      <td>1</td>\n",
       "      <td>велла они всё равно что мусор так что ничего с...</td>\n",
       "      <td>negative</td>\n",
       "    </tr>\n",
       "    <tr>\n",
       "      <th>2</th>\n",
       "      <td>\"трезвая жизнь какая-то такая стрёмная\"\\r\\n(с)...</td>\n",
       "      <td>1</td>\n",
       "      <td>трезвый жизнь какой то такой стрёмная   с  ар...</td>\n",
       "      <td>negative</td>\n",
       "    </tr>\n",
       "    <tr>\n",
       "      <th>3</th>\n",
       "      <td>Ой какие неожиданные результаты 🤭 https://t.co...</td>\n",
       "      <td>0</td>\n",
       "      <td>ой какой неожиданный результат   https   t co ...</td>\n",
       "      <td>positive</td>\n",
       "    </tr>\n",
       "    <tr>\n",
       "      <th>4</th>\n",
       "      <td>@Shvonder_chief @dimsmirnov175 На заборе тоже ...</td>\n",
       "      <td>0</td>\n",
       "      <td>shvonder_chief  dimsmirnov175 на забор тоже н...</td>\n",
       "      <td>neutral</td>\n",
       "    </tr>\n",
       "    <tr>\n",
       "      <th>5</th>\n",
       "      <td>@idkwhht мы тоже мебельная компания уджина😳😳😳</td>\n",
       "      <td>0</td>\n",
       "      <td>idkwhht мы тоже мебельный компания уджина</td>\n",
       "      <td>neutral</td>\n",
       "    </tr>\n",
       "    <tr>\n",
       "      <th>6</th>\n",
       "      <td>Счастья здоровья 10 классникам https://t.co/M9...</td>\n",
       "      <td>0</td>\n",
       "      <td>счастие здоровье 10 классник https   t co m9vu...</td>\n",
       "      <td>speech</td>\n",
       "    </tr>\n",
       "    <tr>\n",
       "      <th>7</th>\n",
       "      <td>@dntbliev НЕ ПАЛИ.</td>\n",
       "      <td>0</td>\n",
       "      <td>dntbliev не пали</td>\n",
       "      <td>neutral</td>\n",
       "    </tr>\n",
       "    <tr>\n",
       "      <th>8</th>\n",
       "      <td>@BTS_twt ты такой красивый 😭😭😭🥺💓</td>\n",
       "      <td>0</td>\n",
       "      <td>bts_twt ты такой красивый</td>\n",
       "      <td>positive</td>\n",
       "    </tr>\n",
       "    <tr>\n",
       "      <th>9</th>\n",
       "      <td>@Ladyzchensk Цыган , хуле ...</td>\n",
       "      <td>1</td>\n",
       "      <td>ladyzchensk цыган   хула</td>\n",
       "      <td>skip</td>\n",
       "    </tr>\n",
       "  </tbody>\n",
       "</table>\n",
       "</div>"
      ],
      "text/plain": [
       "                                                text  label  \\\n",
       "0                               @varlamov @McFaul На      0   \n",
       "1  велл они  всё равно что мусор так что ничего с...      1   \n",
       "2  \"трезвая жизнь какая-то такая стрёмная\"\\r\\n(с)...      1   \n",
       "3  Ой какие неожиданные результаты 🤭 https://t.co...      0   \n",
       "4  @Shvonder_chief @dimsmirnov175 На заборе тоже ...      0   \n",
       "5      @idkwhht мы тоже мебельная компания уджина😳😳😳      0   \n",
       "6  Счастья здоровья 10 классникам https://t.co/M9...      0   \n",
       "7                                 @dntbliev НЕ ПАЛИ.      0   \n",
       "8                   @BTS_twt ты такой красивый 😭😭😭🥺💓      0   \n",
       "9                      @Ladyzchensk Цыган , хуле ...      1   \n",
       "\n",
       "                                             newtext       res  \n",
       "0                                varlamov  mcfaul на   neutral  \n",
       "1  велла они всё равно что мусор так что ничего с...  negative  \n",
       "2   трезвый жизнь какой то такой стрёмная   с  ар...  negative  \n",
       "3  ой какой неожиданный результат   https   t co ...  positive  \n",
       "4   shvonder_chief  dimsmirnov175 на забор тоже н...   neutral  \n",
       "5       idkwhht мы тоже мебельный компания уджина      neutral  \n",
       "6  счастие здоровье 10 классник https   t co m9vu...    speech  \n",
       "7                                  dntbliev не пали    neutral  \n",
       "8                    bts_twt ты такой красивый        positive  \n",
       "9                       ladyzchensk цыган   хула          skip  "
      ]
     },
     "execution_count": 10,
     "metadata": {},
     "output_type": "execute_result"
    }
   ],
   "source": [
    "data2.head(10)"
   ]
  }
 ],
 "metadata": {
  "kernelspec": {
   "display_name": "Python 3 (ipykernel)",
   "language": "python",
   "name": "python3"
  },
  "language_info": {
   "codemirror_mode": {
    "name": "ipython",
    "version": 3
   },
   "file_extension": ".py",
   "mimetype": "text/x-python",
   "name": "python",
   "nbconvert_exporter": "python",
   "pygments_lexer": "ipython3",
   "version": "3.9.21"
  }
 },
 "nbformat": 4,
 "nbformat_minor": 5
}
