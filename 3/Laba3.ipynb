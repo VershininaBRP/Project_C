{
 "cells": [
  {
   "cell_type": "markdown",
   "id": "6e82f025-83ed-4085-9517-573119ba3dd1",
   "metadata": {},
   "source": [
    "# Лабораторная 3"
   ]
  },
  {
   "cell_type": "markdown",
   "id": "d2e95f8e-500d-4ecd-9327-e6901f74cca7",
   "metadata": {},
   "source": [
    "Датасет для темы \"Поиск работы по резюме\""
   ]
  },
  {
   "cell_type": "markdown",
   "id": "6bb0577a-1697-4009-99ca-5eb2d616912a",
   "metadata": {},
   "source": [
    "### Скачали датасет с kaggle"
   ]
  },
  {
   "cell_type": "markdown",
   "id": "d85c3b8f-5a91-4d29-97a5-aaedc8fa6686",
   "metadata": {},
   "source": [
    "Очистка и анализ:"
   ]
  },
  {
   "cell_type": "code",
   "execution_count": 1,
   "id": "2aa7c206-e5a4-425b-a8e0-f8ea000367e6",
   "metadata": {},
   "outputs": [],
   "source": [
    "import pandas as pd\n",
    "data = pd.read_csv('IT_vacancies_full.csv')"
   ]
  },
  {
   "cell_type": "code",
   "execution_count": 2,
   "id": "01c95b26-0caa-41cb-aa1d-9eca5840a82b",
   "metadata": {},
   "outputs": [
    {
     "name": "stdout",
     "output_type": "stream",
     "text": [
      "Ids                       0\n",
      "Employer                  0\n",
      "Name                      0\n",
      "Salary                    0\n",
      "From                  33165\n",
      "To                    38288\n",
      "Experience                0\n",
      "Schedule                  0\n",
      "Keys                      0\n",
      "Description               0\n",
      "Area                      0\n",
      "Professional roles        0\n",
      "Specializations           0\n",
      "Profarea names            0\n",
      "Published at              0\n",
      "dtype: int64\n"
     ]
    }
   ],
   "source": [
    "m=data.isnull().sum()\n",
    "print(m)"
   ]
  },
  {
   "cell_type": "markdown",
   "id": "a7a2718c-48ff-4b9f-b8bd-37ca5aa343ce",
   "metadata": {},
   "source": [
    "Видим много пропущенных значений в столбцах From (мин. зп) и To (маск. зп) - мы не сможем заполнить эти данные, поэтому удаляем эти столбцы."
   ]
  },
  {
   "cell_type": "markdown",
   "id": "6d031d6b-c9e4-40d3-a3d7-959c45a09c9c",
   "metadata": {},
   "source": [
    "В общем нам не важна зарплата"
   ]
  },
  {
   "cell_type": "markdown",
   "id": "6e053cfc-8b19-48a2-bf1f-23b2b385db6b",
   "metadata": {},
   "source": [
    "Так же мы удаляем бесполезные столбцы:  "
   ]
  },
  {
   "cell_type": "markdown",
   "id": "31fcd467-a28c-4873-b66c-20599c891f0b",
   "metadata": {},
   "source": [
    "Salary - наличие зп;\n",
    "Employer - работодатель;\n",
    "Published at - когда опубликованно;"
   ]
  },
  {
   "cell_type": "code",
   "execution_count": 3,
   "id": "455b7b85-eb79-44d8-ba37-efcfc78f8be3",
   "metadata": {},
   "outputs": [],
   "source": [
    "data=data.drop(columns=['From','To','Salary','Employer','Published at'])"
   ]
  },
  {
   "cell_type": "markdown",
   "id": "0b95b2fc-856b-4662-a329-3467e6e2bd52",
   "metadata": {},
   "source": [
    "Удаляем повторы по названиям и по проф. области (чтобы датасет был не такой объемный)."
   ]
  },
  {
   "cell_type": "code",
   "execution_count": 4,
   "id": "f2e7125c-100f-4411-8fa3-dce3409ce7ff",
   "metadata": {},
   "outputs": [],
   "source": [
    "counts = data['Name'].value_counts()\n",
    "unique_values = counts[counts == 1].index\n",
    "data = data[data['Name'].isin(unique_values)]"
   ]
  },
  {
   "cell_type": "code",
   "execution_count": 5,
   "id": "32c58550-19ac-42f2-b708-d9ebfe56d435",
   "metadata": {},
   "outputs": [],
   "source": [
    "counts = data['Profarea names'].value_counts()\n",
    "unique_values = counts[counts == 1].index\n",
    "data = data[data['Profarea names'].isin(unique_values)]"
   ]
  },
  {
   "cell_type": "markdown",
   "id": "32ba74bb-fa26-4fa9-8d39-e8d320518136",
   "metadata": {},
   "source": [
    "### Датасет (самостоятельно)"
   ]
  },
  {
   "cell_type": "markdown",
   "id": "d3b1252e-da05-4d6c-b843-63daabe93806",
   "metadata": {},
   "source": [
    "Выполняем запрос к API HeadHunter для получения списка вакансий от конкретного работодателя"
   ]
  },
  {
   "cell_type": "code",
   "execution_count": 6,
   "id": "96e544b7-ab5b-4848-933f-fdb3fb14ca90",
   "metadata": {},
   "outputs": [],
   "source": [
    "import numpy as np\n",
    "import requests\n",
    "from tqdm import tqdm_notebook\n",
    "import pandas as pd\n",
    "r = requests.get('https://api.hh.ru/vacancies?employer_id=665467').json() \n",
    "vacancies = r['items']\n",
    "data2 = pd.DataFrame(vacancies)"
   ]
  },
  {
   "cell_type": "markdown",
   "id": "3948837d-af80-4f38-892f-4604ee9a3644",
   "metadata": {},
   "source": [
    "Удаляем большую часть датасета, так как есть пропущенные значения, есть неинформативные столбцы."
   ]
  },
  {
   "cell_type": "code",
   "execution_count": 7,
   "id": "bb1f509d-82af-4fce-ac5d-7aee0da15aee",
   "metadata": {},
   "outputs": [],
   "source": [
    "data2=data2.drop(columns=['premium','department','has_test',\n",
    "                        'response_letter_required','salary',\n",
    "                        'type','address','response_url','sort_point_distance',\n",
    "                       'published_at','created_at','archived','apply_alternate_url',\n",
    "                       'branding','show_logo_in_search','insider_interview',\n",
    "                       'url','alternate_url','relations','employer','snippet',\n",
    "                        'contacts','schedule','working_days','working_time_intervals',\n",
    "                        'working_time_modes','accept_temporary','fly_in_fly_out_duration',\n",
    "                        'work_format','working_hours','work_schedule_by_days','night_shifts',\n",
    "                        'accept_incomplete_resumes','employment_form','internship',\n",
    "                        'adv_response_url','is_adv_vacancy','adv_context'])"
   ]
  },
  {
   "cell_type": "markdown",
   "id": "d051ad1f-6291-4db8-8f6c-718c688f7606",
   "metadata": {},
   "source": [
    "Переименовываем столбцы для того, чтобы соеденить датасеты."
   ]
  },
  {
   "cell_type": "code",
   "execution_count": 8,
   "id": "32501018-2506-4b3b-9c3f-6affe1d5dba6",
   "metadata": {},
   "outputs": [],
   "source": [
    "data2.rename(columns={'id': 'Ids'}, inplace=True)\n",
    "data2.rename(columns={'name': 'Name'}, inplace=True)\n",
    "data2.rename(columns={'area': 'Area'}, inplace=True)\n",
    "data2.rename(columns={'professional_roles': 'Professional roles'}, inplace=True)\n",
    "data2.rename(columns={'experience': 'Experience'}, inplace=True)\n",
    "data2.rename(columns={'employment': 'Schedule'}, inplace=True)"
   ]
  },
  {
   "cell_type": "markdown",
   "id": "09fe4f04-71ca-47e2-927a-e05ce47d0f91",
   "metadata": {},
   "source": [
    "Добавляем столбцы "
   ]
  },
  {
   "cell_type": "code",
   "execution_count": 9,
   "id": "b19396d6-1d83-40d5-8575-12f47caddfb2",
   "metadata": {},
   "outputs": [],
   "source": [
    "data2['Keys'] = None\n",
    "data2['Description'] = None\n",
    "data2['Specializations'] = None\n",
    "data2['Profarea names'] = None"
   ]
  },
  {
   "cell_type": "markdown",
   "id": "b56004ce-ec9c-44e0-9ab5-dd24ba256600",
   "metadata": {},
   "source": [
    "### Общий датасет (подготовка)"
   ]
  },
  {
   "cell_type": "markdown",
   "id": "27589ca9-f804-4db7-9980-e86c65f313ff",
   "metadata": {},
   "source": [
    "Соединяем датасеты"
   ]
  },
  {
   "cell_type": "code",
   "execution_count": 10,
   "id": "95d35dbf-d31b-44e7-b50a-d3963f562e5d",
   "metadata": {},
   "outputs": [],
   "source": [
    "result = pd.concat([data, data2], ignore_index=True)"
   ]
  },
  {
   "cell_type": "markdown",
   "id": "2286925e-28d9-4bd1-9629-ead4135f2a1a",
   "metadata": {},
   "source": [
    "Лемматизация "
   ]
  },
  {
   "cell_type": "code",
   "execution_count": 11,
   "id": "c0549a88-3db8-460c-9a4d-4e9733fa7e36",
   "metadata": {},
   "outputs": [],
   "source": [
    "import re\n",
    "import pymorphy2\n",
    "lem = pymorphy2.MorphAnalyzer()\n",
    "def cls(series: pd.Series) -> pd.Series:\n",
    "    return series.apply(cl)\n",
    "def cl(text: str) -> str:\n",
    "    return clear(lemm(text))\n",
    "def clear(text: str) -> str:\n",
    "    return re.sub(r'[^а-яА-ЯёЁ0-9]', ' ', text)\n",
    "def lemm(text: str) -> str:\n",
    "    return ' '.join(lem.parse(word)[0].normal_form for word in text.lower().split())"
   ]
  },
  {
   "cell_type": "code",
   "execution_count": 12,
   "id": "3ba5027d-ba86-4e76-9925-a4d8953cae50",
   "metadata": {},
   "outputs": [],
   "source": [
    "result = result.dropna()"
   ]
  },
  {
   "cell_type": "code",
   "execution_count": 13,
   "id": "72ecba7d-0e64-44df-b984-e360291a7f53",
   "metadata": {},
   "outputs": [],
   "source": [
    "colprocess = [\n",
    "    'Name',\n",
    "    'Experience',\n",
    "    'Schedule',\n",
    "    'Keys',\n",
    "    'Description',\n",
    "    'Area',\n",
    "    'Professional roles',\n",
    "    'Specializations',\n",
    "    'Profarea names'\n",
    "]\n",
    "\n",
    "for column in colprocess:\n",
    "    result[column] = cls(result[column])"
   ]
  },
  {
   "cell_type": "code",
   "execution_count": 14,
   "id": "4bf594ee-4732-439b-9b80-878d6a2803ee",
   "metadata": {},
   "outputs": [
    {
     "data": {
      "text/html": [
       "<div>\n",
       "<style scoped>\n",
       "    .dataframe tbody tr th:only-of-type {\n",
       "        vertical-align: middle;\n",
       "    }\n",
       "\n",
       "    .dataframe tbody tr th {\n",
       "        vertical-align: top;\n",
       "    }\n",
       "\n",
       "    .dataframe thead th {\n",
       "        text-align: right;\n",
       "    }\n",
       "</style>\n",
       "<table border=\"1\" class=\"dataframe\">\n",
       "  <thead>\n",
       "    <tr style=\"text-align: right;\">\n",
       "      <th></th>\n",
       "      <th>Ids</th>\n",
       "      <th>Name</th>\n",
       "      <th>Experience</th>\n",
       "      <th>Schedule</th>\n",
       "      <th>Keys</th>\n",
       "      <th>Description</th>\n",
       "      <th>Area</th>\n",
       "      <th>Professional roles</th>\n",
       "      <th>Specializations</th>\n",
       "      <th>Profarea names</th>\n",
       "    </tr>\n",
       "  </thead>\n",
       "  <tbody>\n",
       "    <tr>\n",
       "      <th>0</th>\n",
       "      <td>49315010</td>\n",
       "      <td>менеджер по ит актив</td>\n",
       "      <td>от 3 до 6 год</td>\n",
       "      <td>полный день</td>\n",
       "      <td>заключение договоров    ведение переговоров ...</td>\n",
       "      <td>на данный момент  мы искать менеджер по    акт...</td>\n",
       "      <td>санкт петербург</td>\n",
       "      <td>руководитель группа разработки</td>\n",
       "      <td>информационный технологии                   ...</td>\n",
       "      <td>закупки    информационный технологии  интерн...</td>\n",
       "    </tr>\n",
       "    <tr>\n",
       "      <th>1</th>\n",
       "      <td>50105203</td>\n",
       "      <td>оператор геймер  на дому</td>\n",
       "      <td>нет опыт</td>\n",
       "      <td>удалённый работа</td>\n",
       "      <td>работа в команде    желание учиться и развив...</td>\n",
       "      <td>миссия наш компания   улучшение клиентский сер...</td>\n",
       "      <td>санкт петербург</td>\n",
       "      <td>другое</td>\n",
       "      <td>начальный уровень  мало опыта    системный а...</td>\n",
       "      <td>административный персонал    начало карьеры ...</td>\n",
       "    </tr>\n",
       "    <tr>\n",
       "      <th>2</th>\n",
       "      <td>49787420</td>\n",
       "      <td>менеджер проект в видеостудия</td>\n",
       "      <td>от 1 год до 3 год</td>\n",
       "      <td>полный день</td>\n",
       "      <td>организаторский навыки    работа в команде  ...</td>\n",
       "      <td>студия денис золотов в поиск менеджер проект  ...</td>\n",
       "      <td>санкт петербург</td>\n",
       "      <td>менеджер по маркетинг и рекламе</td>\n",
       "      <td>менеджер по работа с клиентами    менеджер п...</td>\n",
       "      <td>продажи    информационный технологии  интерн...</td>\n",
       "    </tr>\n",
       "    <tr>\n",
       "      <th>3</th>\n",
       "      <td>50102837</td>\n",
       "      <td>менеджер       координатор</td>\n",
       "      <td>от 1 год до 3 год</td>\n",
       "      <td>полный день</td>\n",
       "      <td>управление проектами      ...</td>\n",
       "      <td>в связь с активный развитие компании  приглаша...</td>\n",
       "      <td>санкт петербург</td>\n",
       "      <td>архитектор</td>\n",
       "      <td>строительство  недвижимость    система автом...</td>\n",
       "      <td>высокий менеджмент    информационный техноло...</td>\n",
       "    </tr>\n",
       "    <tr>\n",
       "      <th>4</th>\n",
       "      <td>50102682</td>\n",
       "      <td>руководитель телефонный продажа</td>\n",
       "      <td>от 1 год до 3 год</td>\n",
       "      <td>полный день</td>\n",
       "      <td>обучение персонала    работа в команде    ор...</td>\n",
       "      <td>наш команда объединить общий цель   предложить...</td>\n",
       "      <td>санкт петербург</td>\n",
       "      <td>руководитель отдел продаж</td>\n",
       "      <td>телекоммуникации  сетевой решения    продажа...</td>\n",
       "      <td>административный персонал    продажи    инфо...</td>\n",
       "    </tr>\n",
       "  </tbody>\n",
       "</table>\n",
       "</div>"
      ],
      "text/plain": [
       "        Ids                             Name         Experience  \\\n",
       "0  49315010             менеджер по ит актив      от 3 до 6 год   \n",
       "1  50105203        оператор геймер  на дому            нет опыт   \n",
       "2  49787420    менеджер проект в видеостудия  от 1 год до 3 год   \n",
       "3  50102837       менеджер       координатор  от 1 год до 3 год   \n",
       "4  50102682  руководитель телефонный продажа  от 1 год до 3 год   \n",
       "\n",
       "           Schedule                                               Keys  \\\n",
       "0       полный день    заключение договоров    ведение переговоров ...   \n",
       "1  удалённый работа    работа в команде    желание учиться и развив...   \n",
       "2       полный день    организаторский навыки    работа в команде  ...   \n",
       "3       полный день                      управление проектами      ...   \n",
       "4       полный день    обучение персонала    работа в команде    ор...   \n",
       "\n",
       "                                         Description             Area  \\\n",
       "0  на данный момент  мы искать менеджер по    акт...  санкт петербург   \n",
       "1  миссия наш компания   улучшение клиентский сер...  санкт петербург   \n",
       "2  студия денис золотов в поиск менеджер проект  ...  санкт петербург   \n",
       "3  в связь с активный развитие компании  приглаша...  санкт петербург   \n",
       "4  наш команда объединить общий цель   предложить...  санкт петербург   \n",
       "\n",
       "                    Professional roles  \\\n",
       "0     руководитель группа разработки     \n",
       "1                             другое     \n",
       "2    менеджер по маркетинг и рекламе     \n",
       "3                         архитектор     \n",
       "4          руководитель отдел продаж     \n",
       "\n",
       "                                     Specializations  \\\n",
       "0    информационный технологии                   ...   \n",
       "1    начальный уровень  мало опыта    системный а...   \n",
       "2    менеджер по работа с клиентами    менеджер п...   \n",
       "3    строительство  недвижимость    система автом...   \n",
       "4    телекоммуникации  сетевой решения    продажа...   \n",
       "\n",
       "                                      Profarea names  \n",
       "0    закупки    информационный технологии  интерн...  \n",
       "1    административный персонал    начало карьеры ...  \n",
       "2    продажи    информационный технологии  интерн...  \n",
       "3    высокий менеджмент    информационный техноло...  \n",
       "4    административный персонал    продажи    инфо...  "
      ]
     },
     "execution_count": 14,
     "metadata": {},
     "output_type": "execute_result"
    }
   ],
   "source": [
    "result.head()"
   ]
  },
  {
   "cell_type": "markdown",
   "id": "51c924bd-f849-4fcb-8145-9f5d5ff582a0",
   "metadata": {},
   "source": [
    "В итоге у нас есть 599 строк"
   ]
  }
 ],
 "metadata": {
  "kernelspec": {
   "display_name": "Python 3 (ipykernel)",
   "language": "python",
   "name": "python3"
  },
  "language_info": {
   "codemirror_mode": {
    "name": "ipython",
    "version": 3
   },
   "file_extension": ".py",
   "mimetype": "text/x-python",
   "name": "python",
   "nbconvert_exporter": "python",
   "pygments_lexer": "ipython3",
   "version": "3.9.21"
  }
 },
 "nbformat": 4,
 "nbformat_minor": 5
}
